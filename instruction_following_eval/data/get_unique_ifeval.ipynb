{
 "cells": [
  {
   "cell_type": "code",
   "execution_count": 2,
   "metadata": {},
   "outputs": [],
   "source": [
    "import json"
   ]
  },
  {
   "cell_type": "code",
   "execution_count": 3,
   "metadata": {},
   "outputs": [],
   "source": [
    "def load_jsonl(file_path):\n",
    "    \"General function to load jsonl file\"\n",
    "    _data = []\n",
    "    with open(file_path, 'r') as f:\n",
    "        for data in f:\n",
    "            jline = json.loads(data)\n",
    "            _data.append(jline)\n",
    "    return _data"
   ]
  },
  {
   "cell_type": "code",
   "execution_count": 4,
   "metadata": {},
   "outputs": [],
   "source": [
    "file_path = 'input_data.jsonl'\n",
    "data = load_jsonl(file_path)\n"
   ]
  },
  {
   "cell_type": "code",
   "execution_count": 5,
   "metadata": {},
   "outputs": [
    {
     "name": "stdout",
     "output_type": "stream",
     "text": [
      "change_case:capital_word_frequency\n",
      "change_case:english_capital\n",
      "change_case:english_lowercase\n",
      "combination:repeat_prompt\n",
      "combination:two_responses\n",
      "detectable_content:number_placeholders\n",
      "detectable_content:postscript\n",
      "detectable_format:constrained_response\n",
      "detectable_format:json_format\n",
      "detectable_format:multiple_sections\n",
      "detectable_format:number_bullet_lists\n",
      "detectable_format:number_highlighted_sections\n",
      "detectable_format:title\n",
      "keywords:existence\n",
      "keywords:forbidden_words\n",
      "keywords:frequency\n",
      "keywords:letter_frequency\n",
      "language:response_language\n",
      "length_constraints:nth_paragraph_first_word\n",
      "length_constraints:number_paragraphs\n",
      "length_constraints:number_sentences\n",
      "length_constraints:number_words\n",
      "punctuation:no_comma\n",
      "startend:end_checker\n",
      "startend:quotation\n"
     ]
    }
   ],
   "source": [
    "instr_set = set()\n",
    "list_instr_kwargs = {}\n",
    "for item in data:\n",
    "    for instr, kwargs in zip(item['instruction_id_list'], item['kwargs']):\n",
    "        if instr in instr_set:\n",
    "            continue\n",
    "        else:\n",
    "            instr_set.add(instr)\n",
    "            list_instr_kwargs[instr]= kwargs\n",
    "\n",
    "print(\"\\n\".join(sorted(list_instr_kwargs.keys())))\n",
    "# print(list_instr_kwargs)\n",
    "\n"
   ]
  },
  {
   "cell_type": "code",
   "execution_count": 6,
   "metadata": {},
   "outputs": [],
   "source": [
    "\n",
    "list_instr_kwargs = dict()\n",
    "max_len = 3\n",
    "for item in data:\n",
    "    for instr, kwargs in zip(item['instruction_id_list'], item['kwargs']):\n",
    "        if instr in list_instr_kwargs.keys():\n",
    "            if kwargs not in list_instr_kwargs[instr] and len(list_instr_kwargs[instr]) < max_len:\n",
    "                list_instr_kwargs[instr].append(kwargs)\n",
    "        else:\n",
    "            list_instr_kwargs[instr] = [kwargs]"
   ]
  },
  {
   "cell_type": "code",
   "execution_count": 7,
   "metadata": {},
   "outputs": [
    {
     "name": "stdout",
     "output_type": "stream",
     "text": [
      "punctuation:no_comma: [{}]\n",
      "detectable_format:number_highlighted_sections: [{'num_highlights': 3}, {'num_highlights': 2}, {'num_highlights': 15}]\n",
      "length_constraints:number_words: [{'relation': 'at least', 'num_words': 300}, {'relation': 'at least', 'num_words': 500}, {'relation': 'at least', 'num_words': 400}]\n",
      "detectable_content:number_placeholders: [{'num_placeholders': 12}, {'num_placeholders': 7}, {'num_placeholders': 20}]\n",
      "combination:repeat_prompt: [{'prompt_to_repeat': 'Write an email to my boss telling him that I am quitting. The email must contain a title wrapped in double angular brackets, i.e. <<title>>.'}, {'prompt_to_repeat': 'Write a short startup pitch for a new kind of ice cream called \"Sunnis ice cream\". The ice cream should be gentle on the stomach. Contain 6 or more exclamation marks \"!\" in your response.'}, {'prompt_to_repeat': 'Write a funny haiku about moms, containing keywords \"mom\" and \"mother\" in your response.'}]\n",
      "detectable_format:title: [{}]\n",
      "change_case:english_lowercase: [{}]\n",
      "detectable_format:number_bullet_lists: [{'num_bullets': 3}, {'num_bullets': 6}, {'num_bullets': 10}]\n",
      "change_case:english_capital: [{}]\n",
      "detectable_format:multiple_sections: [{'section_spliter': 'PARAGRAPH', 'num_sections': 2}, {'section_spliter': 'SECTION', 'num_sections': 4}, {'section_spliter': 'Section', 'num_sections': 4}]\n",
      "change_case:capital_word_frequency: [{'capital_relation': 'less than', 'capital_frequency': 10}, {'capital_relation': 'at least', 'capital_frequency': 1}, {'capital_relation': 'less than', 'capital_frequency': 11}]\n",
      "startend:quotation: [{}]\n",
      "keywords:existence: [{'keywords': ['correlated', 'experiencing']}, {'keywords': ['mom', 'mother']}, {'keywords': ['Argentinian']}]\n",
      "detectable_format:json_format: [{}]\n",
      "length_constraints:number_paragraphs: [{'num_paragraphs': 2}, {'num_paragraphs': 3}, {'num_paragraphs': 4}]\n",
      "combination:two_responses: [{}]\n",
      "language:response_language: [{'language': 'kn'}, {'language': 'pa'}, {'language': 'mr'}]\n",
      "keywords:letter_frequency: [{'let_relation': 'at least', 'letter': '#', 'let_frequency': 4}, {'let_relation': 'at least', 'letter': '!', 'let_frequency': 6}, {'let_relation': 'less than', 'letter': 't', 'let_frequency': 2}]\n",
      "startend:end_checker: [{'end_phrase': 'Can I get my money back for the classes I missed?'}, {'end_phrase': 'Is there anything else I can help with?'}, {'end_phrase': 'You cannot fail with the steps listed above.'}]\n",
      "keywords:forbidden_words: [{'forbidden_words': ['rock']}, {'forbidden_words': ['nourriture']}, {'forbidden_words': ['field', 'thanks', 'issue', 'collaborator']}]\n",
      "keywords:frequency: [{'relation': 'at least', 'keyword': 'story', 'frequency': 2}, {'relation': 'at least', 'keyword': 'war', 'frequency': 8}, {'relation': 'at least', 'keyword': 'peace', 'frequency': 10}]\n",
      "length_constraints:number_sentences: [{'relation': 'less than', 'num_sentences': 6}, {'relation': 'less than', 'num_sentences': 5}, {'relation': 'at least', 'num_sentences': 31}]\n",
      "detectable_content:postscript: [{'postscript_marker': 'P.S.'}, {'postscript_marker': 'P.P.S'}]\n",
      "length_constraints:nth_paragraph_first_word: [{'first_word': 'weekend', 'num_paragraphs': 4, 'nth_paragraph': 1}, {'first_word': 'president', 'num_paragraphs': 6, 'nth_paragraph': 2}, {'first_word': 'summary', 'num_paragraphs': 7, 'nth_paragraph': 7}]\n",
      "detectable_format:constrained_response: [{}]\n"
     ]
    }
   ],
   "source": [
    "for key, value in list_instr_kwargs.items():\n",
    "    print(f\"{key}: {value}\")"
   ]
  },
  {
   "cell_type": "code",
   "execution_count": null,
   "metadata": {},
   "outputs": [],
   "source": []
  }
 ],
 "metadata": {
  "kernelspec": {
   "display_name": "Python 3",
   "language": "python",
   "name": "python3"
  },
  "language_info": {
   "codemirror_mode": {
    "name": "ipython",
    "version": 3
   },
   "file_extension": ".py",
   "mimetype": "text/x-python",
   "name": "python",
   "nbconvert_exporter": "python",
   "pygments_lexer": "ipython3",
   "version": "3.11.4"
  }
 },
 "nbformat": 4,
 "nbformat_minor": 2
}
