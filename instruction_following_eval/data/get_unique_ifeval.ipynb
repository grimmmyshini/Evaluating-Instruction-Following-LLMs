{
 "cells": [
  {
   "cell_type": "code",
   "execution_count": 2,
   "metadata": {},
   "outputs": [],
   "source": [
    "import json"
   ]
  },
  {
   "cell_type": "code",
   "execution_count": 3,
   "metadata": {},
   "outputs": [],
   "source": [
    "def load_jsonl(file_path):\n",
    "    \"General function to load jsonl file\"\n",
    "    _data = []\n",
    "    with open(file_path, 'r') as f:\n",
    "        for data in f:\n",
    "            jline = json.loads(data)\n",
    "            _data.append(jline)\n",
    "    return _data"
   ]
  },
  {
   "cell_type": "code",
   "execution_count": 4,
   "metadata": {},
   "outputs": [],
   "source": [
    "file_path = 'instruction_following_eval/data/input_data.jsonl'\n",
    "data = load_jsonl(file_path)\n"
   ]
  },
  {
   "cell_type": "code",
   "execution_count": 7,
   "metadata": {},
   "outputs": [
    {
     "name": "stdout",
     "output_type": "stream",
     "text": [
      "[{'punctuation:no_comma': {}}, {'detectable_format:number_highlighted_sections': {'num_highlights': 3}}, {'length_constraints:number_words': {'relation': 'at least', 'num_words': 300}}, {'detectable_content:number_placeholders': {'num_placeholders': 12}}, {'combination:repeat_prompt': {'prompt_to_repeat': 'Write an email to my boss telling him that I am quitting. The email must contain a title wrapped in double angular brackets, i.e. <<title>>.'}}, {'detectable_format:title': {}}, {'change_case:english_lowercase': {}}, {'detectable_format:number_bullet_lists': {'num_bullets': 3}}, {'change_case:english_capital': {}}, {'detectable_format:multiple_sections': {'section_spliter': 'PARAGRAPH', 'num_sections': 2}}, {'change_case:capital_word_frequency': {'capital_relation': 'less than', 'capital_frequency': 10}}, {'startend:quotation': {}}, {'keywords:existence': {'keywords': ['correlated', 'experiencing']}}, {'detectable_format:json_format': {}}, {'length_constraints:number_paragraphs': {'num_paragraphs': 2}}, {'combination:two_responses': {}}, {'language:response_language': {'language': 'kn'}}, {'keywords:letter_frequency': {'let_relation': 'at least', 'letter': '#', 'let_frequency': 4}}, {'startend:end_checker': {'end_phrase': 'Can I get my money back for the classes I missed?'}}, {'keywords:forbidden_words': {'forbidden_words': ['rock']}}, {'keywords:frequency': {'relation': 'at least', 'keyword': 'story', 'frequency': 2}}, {'length_constraints:number_sentences': {'relation': 'less than', 'num_sentences': 6}}, {'detectable_content:postscript': {'postscript_marker': 'P.S.'}}, {'length_constraints:nth_paragraph_first_word': {'first_word': 'weekend', 'num_paragraphs': 4, 'nth_paragraph': 1}}, {'detectable_format:constrained_response': {}}]\n"
     ]
    }
   ],
   "source": [
    "instr_set = set()\n",
    "list_instr_kwargs = []\n",
    "for item in data:\n",
    "    for instr, kwargs in zip(item['instruction_id_list'], item['kwargs']):\n",
    "        if instr in instr_set:\n",
    "            continue\n",
    "        else:\n",
    "            instr_set.add(instr)\n",
    "            list_instr_kwargs.append({instr: kwargs})\n",
    "\n",
    "\n",
    "\n"
   ]
  },
  {
   "cell_type": "code",
   "execution_count": 17,
   "metadata": {},
   "outputs": [],
   "source": [
    "\n",
    "list_instr_kwargs = dict()\n",
    "max_len = 3\n",
    "for item in data:\n",
    "    for instr, kwargs in zip(item['instruction_id_list'], item['kwargs']):\n",
    "        if instr in list_instr_kwargs.keys():\n",
    "            if kwargs not in list_instr_kwargs[instr] and len(list_instr_kwargs[instr]) < max_len:\n",
    "                list_instr_kwargs[instr].append(kwargs)\n",
    "        else:\n",
    "            list_instr_kwargs[instr] = [kwargs]"
   ]
  },
  {
   "cell_type": "code",
   "execution_count": 18,
   "metadata": {},
   "outputs": [
    {
     "name": "stdout",
     "output_type": "stream",
     "text": [
      "3433\n"
     ]
    }
   ],
   "source": [
    "print(len(str(list_instr_kwargs)))"
   ]
  },
  {
   "cell_type": "code",
   "execution_count": null,
   "metadata": {},
   "outputs": [],
   "source": []
  }
 ],
 "metadata": {
  "kernelspec": {
   "display_name": "Python 3",
   "language": "python",
   "name": "python3"
  },
  "language_info": {
   "codemirror_mode": {
    "name": "ipython",
    "version": 3
   },
   "file_extension": ".py",
   "mimetype": "text/x-python",
   "name": "python",
   "nbconvert_exporter": "python",
   "pygments_lexer": "ipython3",
   "version": "3.11.4"
  }
 },
 "nbformat": 4,
 "nbformat_minor": 2
}
